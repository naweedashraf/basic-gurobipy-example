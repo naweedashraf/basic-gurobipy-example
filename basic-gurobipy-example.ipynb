{
 "cells": [
  {
   "cell_type": "markdown",
   "id": "ae03266b-3740-4523-83f3-c7eedd64bc79",
   "metadata": {},
   "source": [
    "We are going to solve the following example:\n",
    "\n",
    "\\begin{align}\n",
    "\\mbox{maximize} \\quad & x + 2y + 3z \\notag \\\\\n",
    "\\mbox{subject to} \\quad & x + y = 7 \\notag\\\\\n",
    "                        & y \\leq 5 \\notag \\\\\n",
    "                        & 3x + z \\leq 8 \\notag \\\\\n",
    "                        & x, y, z \\geq 0 \\notag\n",
    "\\end{align}"
   ]
  },
  {
   "cell_type": "code",
   "execution_count": 1,
   "id": "e7f32e9a-0e83-434d-8cd7-ec6ed0d523c2",
   "metadata": {},
   "outputs": [
    {
     "name": "stdout",
     "output_type": "stream",
     "text": [
      "Restricted license - for non-production use only - expires 2025-11-24\n",
      "Gurobi Optimizer version 11.0.0 build v11.0.0rc2 (win64 - Windows 10.0 (19045.2))\n",
      "\n",
      "CPU model: Intel(R) Core(TM) i7-7500U CPU @ 2.70GHz, instruction set [SSE2|AVX|AVX2]\n",
      "Thread count: 2 physical cores, 4 logical processors, using up to 4 threads\n",
      "\n",
      "Optimize a model with 3 rows, 3 columns and 5 nonzeros\n",
      "Model fingerprint: 0xd78cf497\n",
      "Coefficient statistics:\n",
      "  Matrix range     [1e+00, 3e+00]\n",
      "  Objective range  [1e+00, 3e+00]\n",
      "  Bounds range     [0e+00, 0e+00]\n",
      "  RHS range        [5e+00, 8e+00]\n",
      "Presolve removed 3 rows and 3 columns\n",
      "Presolve time: 0.02s\n",
      "Presolve: All rows and columns removed\n",
      "Iteration    Objective       Primal Inf.    Dual Inf.      Time\n",
      "       0    1.8000000e+01   0.000000e+00   0.000000e+00      0s\n",
      "\n",
      "Solved in 0 iterations and 0.04 seconds (0.00 work units)\n",
      "Optimal objective  1.800000000e+01\n",
      "------------------------------------------------------------------------------------------------------------\n",
      "Result:\n",
      "x: 2.0\n",
      "y: 5.0\n",
      "z: 2.0\n",
      "=======================\n",
      "Objective value:\n",
      "18.0\n"
     ]
    }
   ],
   "source": [
    "import gurobipy as gp\n",
    "from gurobipy import GRB\n",
    "\n",
    "with gp.Env() as env, gp.Model(\"basic-example\", env=env) as model:\n",
    "\n",
    "    x = model.addVar(lb=0, vtype=GRB.CONTINUOUS, name=\"x\")\n",
    "    y = model.addVar(lb=0, vtype=GRB.CONTINUOUS, name=\"y\")\n",
    "    z = model.addVar(lb=0, vtype=GRB.CONTINUOUS, name=\"z\")\n",
    "\n",
    "    model.addConstr(x + y == 7, name=\"c0\")\n",
    "    model.addConstr(y <= 5, name=\"c1\")\n",
    "    model.addConstr(3*x + z <= 8, name=\"c2\")\n",
    "\n",
    "    model.setObjective(x + 2*y + 3*z, sense=GRB.MAXIMIZE)\n",
    "\n",
    "    model.optimize()\n",
    "\n",
    "    print('------------------------------------------------------------------------------------------------------------')\n",
    "    print(\"Result:\")\n",
    "    for var in model.getVars():\n",
    "        print(f\"{var.VarName}: {var.X}\")\n",
    "    print(\"=======================\\nObjective value:\")\n",
    "    print(model.ObjVal)"
   ]
  }
 ],
 "metadata": {
  "kernelspec": {
   "display_name": "Python 3 (ipykernel)",
   "language": "python",
   "name": "python3"
  },
  "language_info": {
   "codemirror_mode": {
    "name": "ipython",
    "version": 3
   },
   "file_extension": ".py",
   "mimetype": "text/x-python",
   "name": "python",
   "nbconvert_exporter": "python",
   "pygments_lexer": "ipython3",
   "version": "3.9.6"
  }
 },
 "nbformat": 4,
 "nbformat_minor": 5
}
