{
 "cells": [
  {
   "cell_type": "markdown",
   "id": "ae03266b-3740-4523-83f3-c7eedd64bc79",
   "metadata": {},
   "source": [
    "We are going to solve the following example:\n",
    "\n",
    "\\begin{align}\n",
    "\\mbox{maximize} \\quad & x + 2y + 3z \\notag \\\\\n",
    "\\mbox{subject to} \\quad & x + y = 7 \\notag\\\\\n",
    "                        & y \\leq 5 \\notag \\\\\n",
    "                        & 3x + z \\leq 8 \\notag \\\\\n",
    "                        & x, y, z \\geq 0 \\notag\n",
    "\\end{align}"
   ]
  },
  {
   "cell_type": "code",
   "execution_count": 40,
   "id": "e7f32e9a-0e83-434d-8cd7-ec6ed0d523c2",
   "metadata": {},
   "outputs": [
    {
     "name": "stdout",
     "output_type": "stream",
     "text": [
      "Restricted license - for non-production use only - expires 2025-11-24\n",
      "Gurobi Optimizer version 11.0.0 build v11.0.0rc2 (win64 - Windows 10.0 (19045.2))\n",
      "\n",
      "CPU model: Intel(R) Core(TM) i7-7500U CPU @ 2.70GHz, instruction set [SSE2|AVX|AVX2]\n",
      "Thread count: 2 physical cores, 4 logical processors, using up to 4 threads\n",
      "\n",
      "Optimize a model with 3 rows, 3 columns and 5 nonzeros\n",
      "Model fingerprint: 0xd78cf497\n",
      "Coefficient statistics:\n",
      "  Matrix range     [1e+00, 3e+00]\n",
      "  Objective range  [1e+00, 3e+00]\n",
      "  Bounds range     [0e+00, 0e+00]\n",
      "  RHS range        [5e+00, 8e+00]\n",
      "Presolve removed 3 rows and 3 columns\n",
      "Presolve time: 0.01s\n",
      "Presolve: All rows and columns removed\n",
      "Iteration    Objective       Primal Inf.    Dual Inf.      Time\n",
      "       0    1.8000000e+01   0.000000e+00   0.000000e+00      0s\n",
      "\n",
      "Solved in 0 iterations and 0.02 seconds (0.00 work units)\n",
      "Optimal objective  1.800000000e+01\n",
      "------------------------------------------------------------------------------------------------------------\n",
      "Result:\n",
      "x: 2.0\n",
      "y: 5.0\n",
      "z: 2.0\n",
      "=======================\n",
      "Objective value:\n",
      "18.0\n"
     ]
    }
   ],
   "source": [
    "import gurobipy as gp\n",
    "from gurobipy import GRB\n",
    "\n",
    "with gp.Env() as env, gp.Model(\"basic-example\", env=env) as model:\n",
    "\n",
    "    x = model.addVar(lb=0, vtype=GRB.CONTINUOUS, name=\"x\")\n",
    "    y = model.addVar(lb=0, vtype=GRB.CONTINUOUS, name=\"y\")\n",
    "    z = model.addVar(lb=0, vtype=GRB.CONTINUOUS, name=\"z\")\n",
    "\n",
    "    model.addConstr(x + y == 7, name=\"c0\")\n",
    "    model.addConstr(y <= 5, name=\"c1\")\n",
    "    model.addConstr(3*x + z <= 8, name=\"c2\")\n",
    "\n",
    "    model.setObjective(x + 2*y + 3*z, sense=GRB.MAXIMIZE)\n",
    "\n",
    "    model.optimize()\n",
    "\n",
    "    print('------------------------------------------------------------------------------------------------------------')\n",
    "    print(\"Result:\")\n",
    "    for var in model.getVars():\n",
    "        print(f\"{var.VarName}: {var.X}\")\n",
    "    print(\"=======================\\nObjective value:\")\n",
    "    print(model.ObjVal)"
   ]
  },
  {
   "cell_type": "code",
   "execution_count": 22,
   "id": "8e7499eb-7241-4e41-af81-e069da014429",
   "metadata": {},
   "outputs": [
    {
     "name": "stdout",
     "output_type": "stream",
     "text": [
      "data: {('a', 'b', 'c'): 3, ('a', 'c', 'b'): 4, ('b', 'a', 'c'): 5, ('b', 'c', 'a'): 6, ('c', 'a', 'b'): 7, ('c', 'b', 'a'): 3}\n"
     ]
    }
   ],
   "source": [
    "data = gp.tupledict(\n",
    "    [\n",
    "        ((\"a\", \"b\", \"c\"), 3),\n",
    "        ((\"a\", \"c\", \"b\"), 4),\n",
    "        ((\"b\", \"a\", \"c\"), 5),\n",
    "        ((\"b\", \"c\", \"a\"), 6),\n",
    "        ((\"c\", \"a\", \"b\"), 7),\n",
    "        ((\"c\", \"b\", \"a\"), 3),\n",
    "    ]\n",
    ")\n",
    "print(f\"data: {data}\")"
   ]
  },
  {
   "cell_type": "code",
   "execution_count": 53,
   "id": "c8dc5428-36c4-46ad-9ef2-f334ce5ad007",
   "metadata": {},
   "outputs": [
    {
     "name": "stdout",
     "output_type": "stream",
     "text": [
      "['c[0,a]', 'c[0,b]', 'c[0,c]', 'c[1,a]', 'c[1,b]', 'c[1,c]', 'c[2,a]', 'c[2,b]', 'c[2,c]', 'c[3,a]', 'c[3,b]', 'c[3,c]', 'c[4,a]', 'c[4,b]', 'c[4,c]']\n",
      "x[2] + y[c]\n"
     ]
    }
   ],
   "source": [
    "import gurobipy as gp\n",
    "from gurobipy import GRB\n",
    "\n",
    "# Add constraints x_i + y_j <= 1 for all (i, j). Assume x_i and y_j are binary variables\n",
    "I = range(5)\n",
    "J = [\"a\", \"b\", \"c\"]\n",
    "with gp.Model(\"model\") as model:\n",
    "    x = model.addVars(I, vtype=GRB.BINARY, name=\"x\")\n",
    "    y = model.addVars(J, vtype=GRB.BINARY, name=\"y\")\n",
    "\n",
    "    generator = (x[i] + y[j] <= 1 for i in I for j in J)\n",
    "    model.addConstrs(generator, name=\"c\")\n",
    "    model.update() \n",
    "\n",
    "    # Print constraint names\n",
    "    print(model.getAttr(\"ConstrName\", model.getConstrs())) \n",
    "    cc = model.getConstrByName(\"c[2,c]\")\n",
    "    print(model.getRow(cc))"
   ]
  }
 ],
 "metadata": {
  "kernelspec": {
   "display_name": "Python 3 (ipykernel)",
   "language": "python",
   "name": "python3"
  },
  "language_info": {
   "codemirror_mode": {
    "name": "ipython",
    "version": 3
   },
   "file_extension": ".py",
   "mimetype": "text/x-python",
   "name": "python",
   "nbconvert_exporter": "python",
   "pygments_lexer": "ipython3",
   "version": "3.9.6"
  }
 },
 "nbformat": 4,
 "nbformat_minor": 5
}
